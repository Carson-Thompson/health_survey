{
 "cells": [
  {
   "cell_type": "code",
   "execution_count": 1,
   "id": "35ba4434-6f56-4008-b388-dbb9a1d2be6a",
   "metadata": {},
   "outputs": [],
   "source": [
    "import polars as pl"
   ]
  },
  {
   "cell_type": "markdown",
   "id": "60887d35-6168-4b46-b1d8-077856f351f4",
   "metadata": {},
   "source": [
    "# Why use relative addresses?\n",
    "\n",
    "In this notebook, we will illustrate \n",
    "\n",
    "1. That relative addresses for loading data files works, but\n",
    "2. Using absolute addresses for loading data files *will not*."
   ]
  },
  {
   "cell_type": "markdown",
   "id": "9e71dd7c-a5df-49da-af06-279adb78ab7a",
   "metadata": {},
   "source": [
    "## Problem 1 - Load the `lat_long_example.csv` file using a relative address.\n",
    "\n",
    "**Tasks.**\n",
    "1. Open a terminal, start `nu`, and navigate to the root menu of your first/primary data repository,\n",
    "2. Use `ls **/*` to get the relative address of `lat_long_example.csv`, and\n",
    "3. Use `polars` to load and inspect these data using this relative path."
   ]
  },
  {
   "cell_type": "code",
   "execution_count": 2,
   "id": "449783a9-db7e-4d92-b45a-2ba0088916bd",
   "metadata": {},
   "outputs": [],
   "source": [
    "relative_path = \"./data/lat_long_examples.csv\""
   ]
  },
  {
   "cell_type": "code",
   "execution_count": 3,
   "id": "79d2bdb3-4125-4027-9110-387b75cbfe6d",
   "metadata": {},
   "outputs": [
    {
     "data": {
      "text/html": [
       "<div><style>\n",
       ".dataframe > thead > tr,\n",
       ".dataframe > tbody > tr {\n",
       "  text-align: right;\n",
       "  white-space: pre-wrap;\n",
       "}\n",
       "</style>\n",
       "<small>shape: (2, 7)</small><table border=\"1\" class=\"dataframe\"><thead><tr><th>City 1</th><th>Lat 1</th><th>Long 1</th><th>City 2</th><th>Lat 2</th><th>Long 2</th><th>Distance from Web (km)</th></tr><tr><td>str</td><td>f64</td><td>f64</td><td>str</td><td>f64</td><td>f64</td><td>f64</td></tr></thead><tbody><tr><td>&quot;Winona, MN&quot;</td><td>44.050556</td><td>-91.66833</td><td>&quot;Ames, IA&quot;</td><td>42.018056</td><td>-93.62</td><td>276.48</td></tr><tr><td>&quot;Glagow, Scotland, UK&quot;</td><td>55.861111</td><td>-4.25</td><td>&quot;Ames, IA&quot;</td><td>42.018056</td><td>-93.62</td><td>6237.63</td></tr></tbody></table></div>"
      ],
      "text/plain": [
       "shape: (2, 7)\n",
       "┌─────────────────────┬───────────┬───────────┬──────────┬───────────┬────────┬────────────────────┐\n",
       "│ City 1              ┆ Lat 1     ┆ Long 1    ┆ City 2   ┆ Lat 2     ┆ Long 2 ┆ Distance from Web  │\n",
       "│ ---                 ┆ ---       ┆ ---       ┆ ---      ┆ ---       ┆ ---    ┆ (km)               │\n",
       "│ str                 ┆ f64       ┆ f64       ┆ str      ┆ f64       ┆ f64    ┆ ---                │\n",
       "│                     ┆           ┆           ┆          ┆           ┆        ┆ f64                │\n",
       "╞═════════════════════╪═══════════╪═══════════╪══════════╪═══════════╪════════╪════════════════════╡\n",
       "│ Winona, MN          ┆ 44.050556 ┆ -91.66833 ┆ Ames, IA ┆ 42.018056 ┆ -93.62 ┆ 276.48             │\n",
       "│ Glagow, Scotland,   ┆ 55.861111 ┆ -4.25     ┆ Ames, IA ┆ 42.018056 ┆ -93.62 ┆ 6237.63            │\n",
       "│ UK                  ┆           ┆           ┆          ┆           ┆        ┆                    │\n",
       "└─────────────────────┴───────────┴───────────┴──────────┴───────────┴────────┴────────────────────┘"
      ]
     },
     "execution_count": 3,
     "metadata": {},
     "output_type": "execute_result"
    }
   ],
   "source": [
    "(lat_lng_example :=\n",
    " pl.read_csv(relative_path)\n",
    ")"
   ]
  },
  {
   "cell_type": "markdown",
   "id": "a173049f-b638-426f-adb3-0a9a13251ccb",
   "metadata": {},
   "source": [
    "## Problem 2 - Load the `lat_long_example.csv` file using a absolute address.\n",
    "\n",
    "**Tasks.**\n",
    "1. Open a terminal, start `nu`, and navigate to the root menu of *one of your first/primary data repository,\n",
    "2. Use `glob **/*` to get the absolute address of `lat_long_example.csv`, and\n",
    "3. Use `polars` to load and inspect these data."
   ]
  },
  {
   "cell_type": "code",
   "execution_count": 5,
   "id": "68846b35-bf00-43ee-8de9-893a70a2c389",
   "metadata": {},
   "outputs": [],
   "source": [
    "absolute_path = \"C:/Users/ol3399hi/health_survey/data/lat_long_examples.csv\""
   ]
  },
  {
   "cell_type": "code",
   "execution_count": 6,
   "id": "92fc5bf7-f898-4ac6-934a-c5fc8e23d365",
   "metadata": {},
   "outputs": [
    {
     "data": {
      "text/html": [
       "<div><style>\n",
       ".dataframe > thead > tr,\n",
       ".dataframe > tbody > tr {\n",
       "  text-align: right;\n",
       "  white-space: pre-wrap;\n",
       "}\n",
       "</style>\n",
       "<small>shape: (2, 7)</small><table border=\"1\" class=\"dataframe\"><thead><tr><th>City 1</th><th>Lat 1</th><th>Long 1</th><th>City 2</th><th>Lat 2</th><th>Long 2</th><th>Distance from Web (km)</th></tr><tr><td>str</td><td>f64</td><td>f64</td><td>str</td><td>f64</td><td>f64</td><td>f64</td></tr></thead><tbody><tr><td>&quot;Winona, MN&quot;</td><td>44.050556</td><td>-91.66833</td><td>&quot;Ames, IA&quot;</td><td>42.018056</td><td>-93.62</td><td>276.48</td></tr><tr><td>&quot;Glagow, Scotland, UK&quot;</td><td>55.861111</td><td>-4.25</td><td>&quot;Ames, IA&quot;</td><td>42.018056</td><td>-93.62</td><td>6237.63</td></tr></tbody></table></div>"
      ],
      "text/plain": [
       "shape: (2, 7)\n",
       "┌─────────────────────┬───────────┬───────────┬──────────┬───────────┬────────┬────────────────────┐\n",
       "│ City 1              ┆ Lat 1     ┆ Long 1    ┆ City 2   ┆ Lat 2     ┆ Long 2 ┆ Distance from Web  │\n",
       "│ ---                 ┆ ---       ┆ ---       ┆ ---      ┆ ---       ┆ ---    ┆ (km)               │\n",
       "│ str                 ┆ f64       ┆ f64       ┆ str      ┆ f64       ┆ f64    ┆ ---                │\n",
       "│                     ┆           ┆           ┆          ┆           ┆        ┆ f64                │\n",
       "╞═════════════════════╪═══════════╪═══════════╪══════════╪═══════════╪════════╪════════════════════╡\n",
       "│ Winona, MN          ┆ 44.050556 ┆ -91.66833 ┆ Ames, IA ┆ 42.018056 ┆ -93.62 ┆ 276.48             │\n",
       "│ Glagow, Scotland,   ┆ 55.861111 ┆ -4.25     ┆ Ames, IA ┆ 42.018056 ┆ -93.62 ┆ 6237.63            │\n",
       "│ UK                  ┆           ┆           ┆          ┆           ┆        ┆                    │\n",
       "└─────────────────────┴───────────┴───────────┴──────────┴───────────┴────────┴────────────────────┘"
      ]
     },
     "execution_count": 6,
     "metadata": {},
     "output_type": "execute_result"
    }
   ],
   "source": [
    "(lat_lng_example :=\n",
    " pl.read_csv(absolute_path)\n",
    ")"
   ]
  },
  {
   "cell_type": "markdown",
   "id": "3f658194-ada1-4a12-bca0-2dfda1e00eeb",
   "metadata": {},
   "source": [
    "## Illustrating the problem with absolute addresses\n",
    "\n",
    "While the relative address in problem 1 points to the data IN THIS COPY of the repo, the absolute address points to the data in EXACTLY one of the copies of the repository. This becomes a problem if (A) anything changes in that repository, or (B) we are working on a different machine.\n",
    "\n",
    "**Tasks.** To illustrate why this is a problem, do the following.\n",
    "\n",
    "1. From your first/primary repository commit and push this notebook to GitHub,\n",
    "2. Fetch and pull this notebook to another local copy of the repository,\n",
    "3. In your file explorer (Files or Finder), move your first/primary repository into another folder, e.g., make a new folder and drag-and-drop the repo.\n",
    "4. Rerun the cells in each local copy of the repository and document your findings in the WORD document. "
   ]
  },
  {
   "cell_type": "markdown",
   "id": "55f4c8d1-3c9d-4e8c-92f1-2104dad5280d",
   "metadata": {},
   "source": [
    "Question: Why use relative?\n",
    "\n",
    "Answer:  Absolute paths are machine-dependent.  When you move things or someone else tries to access it on another machine, the address breaks and does not work.  Relative addresses are better because they are relative to the root of the repository, so when it is moved, a different user copies it, or it is even copied on  the same machine, it works because it has the same structure and the root is not changed. "
   ]
  },
  {
   "cell_type": "code",
   "execution_count": 7,
   "id": "c5f82ac5-053a-482c-aca6-e7fae34935ac",
   "metadata": {},
   "outputs": [
    {
     "data": {
      "text/html": [
       "<div><style>\n",
       ".dataframe > thead > tr,\n",
       ".dataframe > tbody > tr {\n",
       "  text-align: right;\n",
       "  white-space: pre-wrap;\n",
       "}\n",
       "</style>\n",
       "<small>shape: (5, 45)</small><table border=\"1\" class=\"dataframe\"><thead><tr><th>ID</th><th>F1</th><th>F5</th><th>F2</th><th>F1.1</th><th>F2.1</th><th>F6</th><th>F4</th><th>F3</th><th>F5.1</th><th>F1.2</th><th>F2.2</th><th>F6.1</th><th>F2.3</th><th>F4.1</th><th>F2.4</th><th>F5.2</th><th>F2.5</th><th>F6.2</th><th>F1.3</th><th>F2.6</th><th>F5.3</th><th>F4.2</th><th>F2.7</th><th>F3.1</th><th>F2.8</th><th>F5.4</th><th>F3.2</th><th>F1.4</th><th>F3.3</th><th>F1.5</th><th>F5.5</th><th>F6.3</th><th>F1.6</th><th>F5.6</th><th>F2.9</th><th>F3.4</th><th>F4.3</th><th>F2.10</th><th>F1.7</th><th>F6.4</th><th>F4.4</th><th>F5.7</th><th>F3.5</th><th>F2.11</th></tr><tr><td>i64</td><td>str</td><td>str</td><td>str</td><td>str</td><td>str</td><td>str</td><td>str</td><td>str</td><td>str</td><td>str</td><td>str</td><td>str</td><td>str</td><td>str</td><td>str</td><td>str</td><td>str</td><td>str</td><td>str</td><td>str</td><td>str</td><td>str</td><td>str</td><td>str</td><td>str</td><td>str</td><td>str</td><td>str</td><td>str</td><td>str</td><td>str</td><td>str</td><td>str</td><td>str</td><td>str</td><td>str</td><td>str</td><td>str</td><td>str</td><td>str</td><td>str</td><td>str</td><td>str</td><td>str</td></tr></thead><tbody><tr><td>1</td><td>&quot;Somewhat Agree&quot;</td><td>&quot;Somewhat Disagree&quot;</td><td>&quot;Somewhat Agree&quot;</td><td>&quot;Somewhat Agree&quot;</td><td>&quot;Somewhat Agree&quot;</td><td>&quot;Somewhat Disagree&quot;</td><td>&quot;Somewhat Agree&quot;</td><td>&quot;Somewhat Agree&quot;</td><td>&quot;Somewhat Agree&quot;</td><td>&quot;Somewhat Agree&quot;</td><td>&quot;Somewhat Agree&quot;</td><td>&quot;Somewhat Agree&quot;</td><td>&quot;Somewhat Agree&quot;</td><td>&quot;Somewhat Agree&quot;</td><td>&quot;Somewhat Agree&quot;</td><td>&quot;Somewhat Agree&quot;</td><td>&quot;Somewhat Agree&quot;</td><td>&quot;Somewhat Agree&quot;</td><td>&quot;Somewhat Agree&quot;</td><td>&quot;Somewhat Agree&quot;</td><td>&quot;Somewhat Agree&quot;</td><td>&quot;Somewhat Agree&quot;</td><td>&quot;Somewhat Agree&quot;</td><td>&quot;Somewhat Disagree&quot;</td><td>&quot;Somewhat Agree&quot;</td><td>&quot;Somewhat Agree&quot;</td><td>&quot;Somewhat Agree&quot;</td><td>&quot;Neither Agree nor Disagree&quot;</td><td>&quot;Somewhat Agree&quot;</td><td>&quot;Somewhat Agree&quot;</td><td>&quot;Somewhat Disagree&quot;</td><td>&quot;Somewhat Disagree&quot;</td><td>&quot;Somewhat Agree&quot;</td><td>&quot;Somewhat Agree&quot;</td><td>&quot;Somewhat Agree&quot;</td><td>&quot;Somewhat Disagree&quot;</td><td>&quot;Neither Agree nor Disagree&quot;</td><td>&quot;Somewhat Agree&quot;</td><td>&quot;Somewhat Agree&quot;</td><td>&quot;Somewhat Agree&quot;</td><td>&quot;Somewhat Agree&quot;</td><td>&quot;Somewhat Agree&quot;</td><td>&quot;Somewhat Agree&quot;</td><td>&quot;Somewhat Agree&quot;</td></tr><tr><td>2</td><td>&quot;Somewhat Agree&quot;</td><td>&quot;Somewhat Disagree&quot;</td><td>&quot;Somewhat Agree&quot;</td><td>&quot;Somewhat Agree&quot;</td><td>&quot;Somewhat Agree&quot;</td><td>&quot;Somewhat Disagree&quot;</td><td>&quot;Somewhat Agree&quot;</td><td>&quot;Neither Agree nor Disagree&quot;</td><td>&quot;Neither Agree nor Disagree&quot;</td><td>&quot;Somewhat Agree&quot;</td><td>&quot;Neither Agree nor Disagree&quot;</td><td>&quot;Somewhat Agree&quot;</td><td>&quot;Somewhat Agree&quot;</td><td>&quot;Neither Agree nor Disagree&quot;</td><td>&quot;Somewhat Agree&quot;</td><td>&quot;Somewhat Agree&quot;</td><td>&quot;Somewhat Agree&quot;</td><td>&quot;Somewhat Agree&quot;</td><td>&quot;Somewhat Agree&quot;</td><td>&quot;Somewhat Agree&quot;</td><td>&quot;Somewhat Agree&quot;</td><td>&quot;Somewhat Agree&quot;</td><td>&quot;Somewhat Agree&quot;</td><td>&quot;Neither Agree nor Disagree&quot;</td><td>&quot;Somewhat Agree&quot;</td><td>&quot;Neither Agree nor Disagree&quot;</td><td>&quot;Neither Agree nor Disagree&quot;</td><td>&quot;Somewhat Agree&quot;</td><td>&quot;Neither Agree nor Disagree&quot;</td><td>&quot;Neither Agree nor Disagree&quot;</td><td>&quot;Neither Agree nor Disagree&quot;</td><td>&quot;Somewhat Disagree&quot;</td><td>&quot;Somewhat Agree&quot;</td><td>&quot;Somewhat Disagree&quot;</td><td>&quot;Somewhat Agree&quot;</td><td>&quot;Somewhat Agree&quot;</td><td>&quot;Neither Agree nor Disagree&quot;</td><td>&quot;Somewhat Agree&quot;</td><td>&quot;Somewhat Agree&quot;</td><td>&quot;Somewhat Disagree&quot;</td><td>&quot;Neither Agree nor Disagree&quot;</td><td>&quot;Somewhat Agree&quot;</td><td>&quot;Neither Agree nor Disagree&quot;</td><td>&quot;Somewhat Agree&quot;</td></tr><tr><td>3</td><td>&quot;Strongly Agree&quot;</td><td>&quot;Neither Agree nor Disagree&quot;</td><td>&quot;Somewhat Agree&quot;</td><td>&quot;Strongly Agree&quot;</td><td>&quot;Strongly Agree&quot;</td><td>&quot;Somewhat Disagree&quot;</td><td>&quot;Somewhat Agree&quot;</td><td>&quot;Somewhat Agree&quot;</td><td>&quot;Somewhat Agree&quot;</td><td>&quot;Strongly Agree&quot;</td><td>&quot;Somewhat Agree&quot;</td><td>&quot;Neither Agree nor Disagree&quot;</td><td>&quot;Somewhat Agree&quot;</td><td>&quot;Neither Agree nor Disagree&quot;</td><td>&quot;Somewhat Agree&quot;</td><td>&quot;Somewhat Disagree&quot;</td><td>&quot;Strongly Agree&quot;</td><td>&quot;Somewhat Agree&quot;</td><td>&quot;Strongly Agree&quot;</td><td>&quot;Somewhat Agree&quot;</td><td>&quot;Somewhat Agree&quot;</td><td>&quot;Somewhat Agree&quot;</td><td>null</td><td>&quot;Somewhat Disagree&quot;</td><td>&quot;Somewhat Agree&quot;</td><td>&quot;Somewhat Agree&quot;</td><td>&quot;Somewhat Agree&quot;</td><td>&quot;Somewhat Disagree&quot;</td><td>&quot;Somewhat Agree&quot;</td><td>&quot;Strongly Agree&quot;</td><td>&quot;Somewhat Disagree&quot;</td><td>&quot;Somewhat Disagree&quot;</td><td>&quot;Strongly Agree&quot;</td><td>&quot;Somewhat Disagree&quot;</td><td>&quot;Somewhat Agree&quot;</td><td>&quot;Somewhat Agree&quot;</td><td>&quot;Neither Agree nor Disagree&quot;</td><td>&quot;Somewhat Agree&quot;</td><td>&quot;Somewhat Agree&quot;</td><td>&quot;Somewhat Agree&quot;</td><td>&quot;Somewhat Agree&quot;</td><td>&quot;Strongly Agree&quot;</td><td>&quot;Strongly Disagree&quot;</td><td>&quot;Somewhat Agree&quot;</td></tr><tr><td>4</td><td>&quot;Somewhat Agree&quot;</td><td>&quot;Somewhat Agree&quot;</td><td>&quot;Strongly Agree&quot;</td><td>&quot;Somewhat Agree&quot;</td><td>&quot;Strongly Agree&quot;</td><td>&quot;Neither Agree nor Disagree&quot;</td><td>&quot;Neither Agree nor Disagree&quot;</td><td>&quot;Somewhat Disagree&quot;</td><td>&quot;Somewhat Agree&quot;</td><td>&quot;Strongly Agree&quot;</td><td>&quot;Strongly Agree&quot;</td><td>&quot;Somewhat Agree&quot;</td><td>&quot;Somewhat Agree&quot;</td><td>&quot;Neither Agree nor Disagree&quot;</td><td>&quot;Strongly Agree&quot;</td><td>&quot;Somewhat Disagree&quot;</td><td>&quot;Strongly Agree&quot;</td><td>&quot;Somewhat Agree&quot;</td><td>&quot;Somewhat Agree&quot;</td><td>&quot;Strongly Agree&quot;</td><td>&quot;Somewhat Agree&quot;</td><td>&quot;Somewhat Agree&quot;</td><td>&quot;Somewhat Agree&quot;</td><td>&quot;Somewhat Disagree&quot;</td><td>&quot;Somewhat Agree&quot;</td><td>&quot;Somewhat Agree&quot;</td><td>&quot;Somewhat Disagree&quot;</td><td>&quot;Neither Agree nor Disagree&quot;</td><td>&quot;Somewhat Disagree&quot;</td><td>&quot;Somewhat Agree&quot;</td><td>&quot;Somewhat Disagree&quot;</td><td>&quot;Somewhat Agree&quot;</td><td>&quot;Strongly Agree&quot;</td><td>&quot;Somewhat Disagree&quot;</td><td>&quot;Somewhat Agree&quot;</td><td>&quot;Somewhat Disagree&quot;</td><td>&quot;Somewhat Agree&quot;</td><td>&quot;Somewhat Agree&quot;</td><td>&quot;Neither Agree nor Disagree&quot;</td><td>&quot;Neither Agree nor Disagree&quot;</td><td>&quot;Neither Agree nor Disagree&quot;</td><td>&quot;Somewhat Agree&quot;</td><td>&quot;Somewhat Disagree&quot;</td><td>&quot;Somewhat Agree&quot;</td></tr><tr><td>5</td><td>&quot;Strongly Agree&quot;</td><td>&quot;Strongly Disagree&quot;</td><td>&quot;Neither Agree nor Disagree&quot;</td><td>&quot;Strongly Agree&quot;</td><td>&quot;Somewhat Agree&quot;</td><td>&quot;Strongly Disagree&quot;</td><td>&quot;Strongly Agree&quot;</td><td>&quot;Somewhat Agree&quot;</td><td>&quot;Neither Agree nor Disagree&quot;</td><td>&quot;Strongly Agree&quot;</td><td>&quot;Somewhat Agree&quot;</td><td>&quot;Somewhat Agree&quot;</td><td>&quot;Somewhat Disagree&quot;</td><td>&quot;Neither Agree nor Disagree&quot;</td><td>&quot;Somewhat Agree&quot;</td><td>&quot;Strongly Disagree&quot;</td><td>&quot;Strongly Agree&quot;</td><td>&quot;Strongly Agree&quot;</td><td>&quot;Strongly Agree&quot;</td><td>&quot;Strongly Agree&quot;</td><td>&quot;Strongly Agree&quot;</td><td>&quot;Somewhat Agree&quot;</td><td>&quot;Somewhat Agree&quot;</td><td>&quot;Somewhat Agree&quot;</td><td>&quot;Somewhat Agree&quot;</td><td>&quot;Neither Agree nor Disagree&quot;</td><td>&quot;Somewhat Agree&quot;</td><td>&quot;Somewhat Agree&quot;</td><td>&quot;Somewhat Agree&quot;</td><td>&quot;Somewhat Agree&quot;</td><td>&quot;Strongly Disagree&quot;</td><td>&quot;Neither Agree nor Disagree&quot;</td><td>&quot;Strongly Agree&quot;</td><td>&quot;Strongly Disagree&quot;</td><td>&quot;Somewhat Agree&quot;</td><td>&quot;Somewhat Agree&quot;</td><td>&quot;Neither Agree nor Disagree&quot;</td><td>&quot;Somewhat Agree&quot;</td><td>&quot;Somewhat Agree&quot;</td><td>&quot;Somewhat Agree&quot;</td><td>&quot;Somewhat Agree&quot;</td><td>&quot;Strongly Agree&quot;</td><td>&quot;Somewhat Disagree&quot;</td><td>&quot;Somewhat Agree&quot;</td></tr></tbody></table></div>"
      ],
      "text/plain": [
       "shape: (5, 45)\n",
       "┌─────┬────────────┬────────────┬────────────┬───┬────────────┬────────────┬───────────┬───────────┐\n",
       "│ ID  ┆ F1         ┆ F5         ┆ F2         ┆ … ┆ F4.4       ┆ F5.7       ┆ F3.5      ┆ F2.11     │\n",
       "│ --- ┆ ---        ┆ ---        ┆ ---        ┆   ┆ ---        ┆ ---        ┆ ---       ┆ ---       │\n",
       "│ i64 ┆ str        ┆ str        ┆ str        ┆   ┆ str        ┆ str        ┆ str       ┆ str       │\n",
       "╞═════╪════════════╪════════════╪════════════╪═══╪════════════╪════════════╪═══════════╪═══════════╡\n",
       "│ 1   ┆ Somewhat   ┆ Somewhat   ┆ Somewhat   ┆ … ┆ Somewhat   ┆ Somewhat   ┆ Somewhat  ┆ Somewhat  │\n",
       "│     ┆ Agree      ┆ Disagree   ┆ Agree      ┆   ┆ Agree      ┆ Agree      ┆ Agree     ┆ Agree     │\n",
       "│ 2   ┆ Somewhat   ┆ Somewhat   ┆ Somewhat   ┆ … ┆ Neither    ┆ Somewhat   ┆ Neither   ┆ Somewhat  │\n",
       "│     ┆ Agree      ┆ Disagree   ┆ Agree      ┆   ┆ Agree nor  ┆ Agree      ┆ Agree nor ┆ Agree     │\n",
       "│     ┆            ┆            ┆            ┆   ┆ Disagree   ┆            ┆ Disagree  ┆           │\n",
       "│ 3   ┆ Strongly   ┆ Neither    ┆ Somewhat   ┆ … ┆ Somewhat   ┆ Strongly   ┆ Strongly  ┆ Somewhat  │\n",
       "│     ┆ Agree      ┆ Agree nor  ┆ Agree      ┆   ┆ Agree      ┆ Agree      ┆ Disagree  ┆ Agree     │\n",
       "│     ┆            ┆ Disagree   ┆            ┆   ┆            ┆            ┆           ┆           │\n",
       "│ 4   ┆ Somewhat   ┆ Somewhat   ┆ Strongly   ┆ … ┆ Neither    ┆ Somewhat   ┆ Somewhat  ┆ Somewhat  │\n",
       "│     ┆ Agree      ┆ Agree      ┆ Agree      ┆   ┆ Agree nor  ┆ Agree      ┆ Disagree  ┆ Agree     │\n",
       "│     ┆            ┆            ┆            ┆   ┆ Disagree   ┆            ┆           ┆           │\n",
       "│ 5   ┆ Strongly   ┆ Strongly   ┆ Neither    ┆ … ┆ Somewhat   ┆ Strongly   ┆ Somewhat  ┆ Somewhat  │\n",
       "│     ┆ Agree      ┆ Disagree   ┆ Agree nor  ┆   ┆ Agree      ┆ Agree      ┆ Disagree  ┆ Agree     │\n",
       "│     ┆            ┆            ┆ Disagree   ┆   ┆            ┆            ┆           ┆           │\n",
       "└─────┴────────────┴────────────┴────────────┴───┴────────────┴────────────┴───────────┴───────────┘"
      ]
     },
     "execution_count": 7,
     "metadata": {},
     "output_type": "execute_result"
    }
   ],
   "source": [
    "survey_path = \"./data/health_survey.csv\"\n",
    "\n",
    "(health_survey :=\n",
    " pl.read_csv(survey_path)\n",
    ")\n",
    "\n",
    "health_survey.head(5)"
   ]
  },
  {
   "cell_type": "code",
   "execution_count": 8,
   "id": "602221e3-1874-4242-a502-e6b43e69eb4b",
   "metadata": {},
   "outputs": [
    {
     "data": {
      "text/html": [
       "<div><style>\n",
       ".dataframe > thead > tr,\n",
       ".dataframe > tbody > tr {\n",
       "  text-align: right;\n",
       "  white-space: pre-wrap;\n",
       "}\n",
       "</style>\n",
       "<small>shape: (5, 5)</small><table border=\"1\" class=\"dataframe\"><thead><tr><th>Question</th><th>Construct</th><th>Question # on Qualtrics Survey</th><th>Needs Reverse Coding?</th><th>Question Type</th></tr><tr><td>str</td><td>i64</td><td>i64</td><td>str</td><td>str</td></tr></thead><tbody><tr><td>&quot;In the future, I plan to parti…</td><td>1</td><td>1</td><td>&quot;No&quot;</td><td>&quot;F1&quot;</td></tr><tr><td>&quot;Individuals are responsible fo…</td><td>5</td><td>2</td><td>&quot;Yes&quot;</td><td>&quot;F5&quot;</td></tr><tr><td>&quot;When tryng to understand the p…</td><td>2</td><td>3</td><td>&quot;No&quot;</td><td>&quot;F2&quot;</td></tr><tr><td>&quot;I plan to become involved in m…</td><td>1</td><td>4</td><td>&quot;No&quot;</td><td>&quot;F1.1&quot;</td></tr><tr><td>&quot;I can communicate well with ot…</td><td>2</td><td>5</td><td>&quot;No&quot;</td><td>&quot;F2.1&quot;</td></tr></tbody></table></div>"
      ],
      "text/plain": [
       "shape: (5, 5)\n",
       "┌───────────────────┬───────────┬──────────────────┬───────────────────────┬───────────────┐\n",
       "│ Question          ┆ Construct ┆ Question # on    ┆ Needs Reverse Coding? ┆ Question Type │\n",
       "│ ---               ┆ ---       ┆ Qualtrics Survey ┆ ---                   ┆ ---           │\n",
       "│ str               ┆ i64       ┆ ---              ┆ str                   ┆ str           │\n",
       "│                   ┆           ┆ i64              ┆                       ┆               │\n",
       "╞═══════════════════╪═══════════╪══════════════════╪═══════════════════════╪═══════════════╡\n",
       "│ In the future, I  ┆ 1         ┆ 1                ┆ No                    ┆ F1            │\n",
       "│ plan to parti…    ┆           ┆                  ┆                       ┆               │\n",
       "│ Individuals are   ┆ 5         ┆ 2                ┆ Yes                   ┆ F5            │\n",
       "│ responsible fo…   ┆           ┆                  ┆                       ┆               │\n",
       "│ When tryng to     ┆ 2         ┆ 3                ┆ No                    ┆ F2            │\n",
       "│ understand the p… ┆           ┆                  ┆                       ┆               │\n",
       "│ I plan to become  ┆ 1         ┆ 4                ┆ No                    ┆ F1.1          │\n",
       "│ involved in m…    ┆           ┆                  ┆                       ┆               │\n",
       "│ I can communicate ┆ 2         ┆ 5                ┆ No                    ┆ F2.1          │\n",
       "│ well with ot…     ┆           ┆                  ┆                       ┆               │\n",
       "└───────────────────┴───────────┴──────────────────┴───────────────────────┴───────────────┘"
      ]
     },
     "execution_count": 8,
     "metadata": {},
     "output_type": "execute_result"
    }
   ],
   "source": [
    "coding_path = \"./data/ReverseCodingItems.csv\"\n",
    "\n",
    "(reverse_coding :=\n",
    " pl.read_csv(coding_path)\n",
    ")\n",
    "\n",
    "reverse_coding = reverse_coding.rename({\"Column Name\" : \"Question Type\"})\n",
    "reverse_coding.head(5)"
   ]
  },
  {
   "cell_type": "code",
   "execution_count": 9,
   "id": "2b722062-53cd-4e98-852c-b9fa20c3dc02",
   "metadata": {},
   "outputs": [
    {
     "data": {
      "text/html": [
       "<div><style>\n",
       ".dataframe > thead > tr,\n",
       ".dataframe > tbody > tr {\n",
       "  text-align: right;\n",
       "  white-space: pre-wrap;\n",
       "}\n",
       "</style>\n",
       "<small>shape: (10, 7)</small><table border=\"1\" class=\"dataframe\"><thead><tr><th>ID</th><th>F1</th><th>F2</th><th>F3</th><th>F4</th><th>F5</th><th>F6</th></tr><tr><td>i64</td><td>i32</td><td>i32</td><td>i32</td><td>i32</td><td>i32</td><td>i32</td></tr></thead><tbody><tr><td>1</td><td>31</td><td>48</td><td>20</td><td>17</td><td>28</td><td>18</td></tr><tr><td>2</td><td>31</td><td>47</td><td>19</td><td>17</td><td>27</td><td>20</td></tr><tr><td>3</td><td>36</td><td>46</td><td>19</td><td>18</td><td>32</td><td>17</td></tr><tr><td>4</td><td>32</td><td>54</td><td>12</td><td>15</td><td>30</td><td>16</td></tr><tr><td>5</td><td>37</td><td>47</td><td>22</td><td>19</td><td>36</td><td>19</td></tr><tr><td>6</td><td>36</td><td>51</td><td>20</td><td>23</td><td>37</td><td>24</td></tr><tr><td>7</td><td>36</td><td>56</td><td>22</td><td>19</td><td>29</td><td>22</td></tr><tr><td>8</td><td>39</td><td>49</td><td>18</td><td>21</td><td>29</td><td>16</td></tr><tr><td>9</td><td>36</td><td>52</td><td>21</td><td>22</td><td>30</td><td>19</td></tr><tr><td>10</td><td>35</td><td>58</td><td>28</td><td>19</td><td>40</td><td>23</td></tr></tbody></table></div>"
      ],
      "text/plain": [
       "shape: (10, 7)\n",
       "┌─────┬─────┬─────┬─────┬─────┬─────┬─────┐\n",
       "│ ID  ┆ F1  ┆ F2  ┆ F3  ┆ F4  ┆ F5  ┆ F6  │\n",
       "│ --- ┆ --- ┆ --- ┆ --- ┆ --- ┆ --- ┆ --- │\n",
       "│ i64 ┆ i32 ┆ i32 ┆ i32 ┆ i32 ┆ i32 ┆ i32 │\n",
       "╞═════╪═════╪═════╪═════╪═════╪═════╪═════╡\n",
       "│ 1   ┆ 31  ┆ 48  ┆ 20  ┆ 17  ┆ 28  ┆ 18  │\n",
       "│ 2   ┆ 31  ┆ 47  ┆ 19  ┆ 17  ┆ 27  ┆ 20  │\n",
       "│ 3   ┆ 36  ┆ 46  ┆ 19  ┆ 18  ┆ 32  ┆ 17  │\n",
       "│ 4   ┆ 32  ┆ 54  ┆ 12  ┆ 15  ┆ 30  ┆ 16  │\n",
       "│ 5   ┆ 37  ┆ 47  ┆ 22  ┆ 19  ┆ 36  ┆ 19  │\n",
       "│ 6   ┆ 36  ┆ 51  ┆ 20  ┆ 23  ┆ 37  ┆ 24  │\n",
       "│ 7   ┆ 36  ┆ 56  ┆ 22  ┆ 19  ┆ 29  ┆ 22  │\n",
       "│ 8   ┆ 39  ┆ 49  ┆ 18  ┆ 21  ┆ 29  ┆ 16  │\n",
       "│ 9   ┆ 36  ┆ 52  ┆ 21  ┆ 22  ┆ 30  ┆ 19  │\n",
       "│ 10  ┆ 35  ┆ 58  ┆ 28  ┆ 19  ┆ 40  ┆ 23  │\n",
       "└─────┴─────┴─────┴─────┴─────┴─────┴─────┘"
      ]
     },
     "execution_count": 9,
     "metadata": {},
     "output_type": "execute_result"
    }
   ],
   "source": [
    "(survey_results := health_survey\n",
    " .unpivot(index = \"ID\", \n",
    "          on = health_survey.columns[1:],\n",
    "          variable_name = \"Question\",\n",
    "          value_name = \"Response\")\n",
    " .join(reverse_coding, left_on = \"Question\", right_on = \"Question Type\", how = \"left\")\n",
    " .drop(\"Question_right\", \"Construct\", \"Question # on Qualtrics Survey\")                   \n",
    " .with_columns(pl.when(pl.col(\"Response\") == \"Strongly Agree\").then(5)\n",
    "                               .when(pl.col(\"Response\") == \"Somewhat Agree\").then(4)\n",
    "                               .when(pl.col(\"Response\") == \"Neither Agree nor Disagree\").then(3)\n",
    "                               .when(pl.col(\"Response\") == \"Somewhat Disagree\").then(2)\n",
    "                               .when(pl.col(\"Response\") == \"Strongly Disagree\").then(1)\n",
    "                               .alias(\"TempRecode Value\"))\n",
    ".with_columns(pl.when(pl.col(\"Response\") == \"Strongly Agree\").then(1)\n",
    "                               .when(pl.col(\"Response\") == \"Somewhat Agree\").then(2)\n",
    "                               .when(pl.col(\"Response\") == \"Neither Agree nor Disagree\").then(3)\n",
    "                               .when(pl.col(\"Response\") == \"Somewhat Disagree\").then(4)\n",
    "                               .when(pl.col(\"Response\") == \"Strongly Disagree\").then(5)\n",
    "                               .alias(\"TempReverse Value\"))\n",
    ".with_columns(pl.when(pl.col(\"Needs Reverse Coding?\") == \"Yes\").then(pl.col(\"TempReverse Value\"))\n",
    "                               .when(pl.col(\"Needs Reverse Coding?\") == \"No\").then(pl.col(\"TempRecode Value\"))\n",
    "                               .alias(\"Recoded Value\"))\n",
    ".with_columns(pl.col(\"Question\").str.slice(0,2).alias(\"Question Type\"))\n",
    ".drop(\"Question\", \"Response\", \"Needs Reverse Coding?\", \"TempRecode Value\", \"TempReverse Value\")\n",
    ".group_by(\"ID\", \"Question Type\").agg([pl.col(\"Recoded Value\").sum().alias(\"Recoded Total\")])\n",
    ".pivot(values = \"Recoded Total\", \n",
    "                        index = \"ID\",\n",
    "                        on = \"Question Type\")\n",
    ".select(\"ID\", \"F1\", \"F2\", \"F3\", \"F4\", \"F5\", \"F6\").sort(\"ID\")\n",
    ")\n",
    "survey_results.head(10)"
   ]
  },
  {
   "cell_type": "code",
   "execution_count": 11,
   "id": "0b504fcc-34a2-4df2-8804-bd56de979747",
   "metadata": {},
   "outputs": [],
   "source": [
    "survey_results.write_csv(\"./data/health_survey_summary.csv\")"
   ]
  }
 ],
 "metadata": {
  "kernelspec": {
   "display_name": "Python 3 (ipykernel)",
   "language": "python",
   "name": "python3"
  },
  "language_info": {
   "codemirror_mode": {
    "name": "ipython",
    "version": 3
   },
   "file_extension": ".py",
   "mimetype": "text/x-python",
   "name": "python",
   "nbconvert_exporter": "python",
   "pygments_lexer": "ipython3",
   "version": "3.13.5"
  }
 },
 "nbformat": 4,
 "nbformat_minor": 5
}
